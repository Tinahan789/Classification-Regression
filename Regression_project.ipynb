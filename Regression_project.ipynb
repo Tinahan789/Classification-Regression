{
 "cells": [
  {
   "cell_type": "code",
   "execution_count": 1,
   "metadata": {},
   "outputs": [],
   "source": [
    "from sklearn.neighbors import KNeighborsRegressor\n",
    "import pandas as pd\n",
    "import numpy as np\n",
    "import matplotlib.pyplot as plt"
   ]
  },
  {
   "cell_type": "code",
   "execution_count": 2,
   "metadata": {},
   "outputs": [],
   "source": [
    "winetr = pd.read_csv(\"wine_train.csv\")\n",
    "winete = pd.read_csv(\"wine_test.csv\")"
   ]
  },
  {
   "cell_type": "code",
   "execution_count": 3,
   "metadata": {},
   "outputs": [
    {
     "data": {
      "text/html": [
       "<div>\n",
       "<style scoped>\n",
       "    .dataframe tbody tr th:only-of-type {\n",
       "        vertical-align: middle;\n",
       "    }\n",
       "\n",
       "    .dataframe tbody tr th {\n",
       "        vertical-align: top;\n",
       "    }\n",
       "\n",
       "    .dataframe thead th {\n",
       "        text-align: right;\n",
       "    }\n",
       "</style>\n",
       "<table border=\"1\" class=\"dataframe\">\n",
       "  <thead>\n",
       "    <tr style=\"text-align: right;\">\n",
       "      <th></th>\n",
       "      <th>Unnamed: 0</th>\n",
       "      <th>fixed.acidity</th>\n",
       "      <th>volatile.acidity</th>\n",
       "      <th>citric.acid</th>\n",
       "      <th>residual.sugar</th>\n",
       "      <th>chlorides</th>\n",
       "      <th>free.sulfur.dioxide</th>\n",
       "      <th>total.sulfur.dioxide</th>\n",
       "      <th>density</th>\n",
       "      <th>pH</th>\n",
       "      <th>sulphates</th>\n",
       "      <th>alcohol</th>\n",
       "      <th>quality</th>\n",
       "    </tr>\n",
       "  </thead>\n",
       "  <tbody>\n",
       "    <tr>\n",
       "      <th>0</th>\n",
       "      <td>2288</td>\n",
       "      <td>6.7</td>\n",
       "      <td>0.17</td>\n",
       "      <td>0.37</td>\n",
       "      <td>2.00</td>\n",
       "      <td>0.039</td>\n",
       "      <td>34.0</td>\n",
       "      <td>125.0</td>\n",
       "      <td>0.99220</td>\n",
       "      <td>3.26</td>\n",
       "      <td>0.60</td>\n",
       "      <td>10.8</td>\n",
       "      <td>7</td>\n",
       "    </tr>\n",
       "    <tr>\n",
       "      <th>1</th>\n",
       "      <td>1136</td>\n",
       "      <td>10.4</td>\n",
       "      <td>0.52</td>\n",
       "      <td>0.45</td>\n",
       "      <td>2.00</td>\n",
       "      <td>0.080</td>\n",
       "      <td>6.0</td>\n",
       "      <td>13.0</td>\n",
       "      <td>0.99774</td>\n",
       "      <td>3.22</td>\n",
       "      <td>0.76</td>\n",
       "      <td>11.4</td>\n",
       "      <td>6</td>\n",
       "    </tr>\n",
       "    <tr>\n",
       "      <th>2</th>\n",
       "      <td>4883</td>\n",
       "      <td>8.0</td>\n",
       "      <td>0.34</td>\n",
       "      <td>0.25</td>\n",
       "      <td>6.40</td>\n",
       "      <td>0.035</td>\n",
       "      <td>38.0</td>\n",
       "      <td>103.0</td>\n",
       "      <td>0.99148</td>\n",
       "      <td>2.91</td>\n",
       "      <td>0.23</td>\n",
       "      <td>12.2</td>\n",
       "      <td>6</td>\n",
       "    </tr>\n",
       "    <tr>\n",
       "      <th>3</th>\n",
       "      <td>3166</td>\n",
       "      <td>7.5</td>\n",
       "      <td>0.19</td>\n",
       "      <td>0.49</td>\n",
       "      <td>1.80</td>\n",
       "      <td>0.055</td>\n",
       "      <td>19.0</td>\n",
       "      <td>110.0</td>\n",
       "      <td>0.99460</td>\n",
       "      <td>3.33</td>\n",
       "      <td>0.44</td>\n",
       "      <td>9.9</td>\n",
       "      <td>5</td>\n",
       "    </tr>\n",
       "    <tr>\n",
       "      <th>4</th>\n",
       "      <td>2230</td>\n",
       "      <td>7.0</td>\n",
       "      <td>0.23</td>\n",
       "      <td>0.42</td>\n",
       "      <td>18.05</td>\n",
       "      <td>0.050</td>\n",
       "      <td>35.0</td>\n",
       "      <td>144.0</td>\n",
       "      <td>0.99990</td>\n",
       "      <td>3.22</td>\n",
       "      <td>0.42</td>\n",
       "      <td>8.8</td>\n",
       "      <td>5</td>\n",
       "    </tr>\n",
       "  </tbody>\n",
       "</table>\n",
       "</div>"
      ],
      "text/plain": [
       "   Unnamed: 0  fixed.acidity  volatile.acidity  citric.acid  residual.sugar  \\\n",
       "0        2288            6.7              0.17         0.37            2.00   \n",
       "1        1136           10.4              0.52         0.45            2.00   \n",
       "2        4883            8.0              0.34         0.25            6.40   \n",
       "3        3166            7.5              0.19         0.49            1.80   \n",
       "4        2230            7.0              0.23         0.42           18.05   \n",
       "\n",
       "   chlorides  free.sulfur.dioxide  total.sulfur.dioxide  density    pH  \\\n",
       "0      0.039                 34.0                 125.0  0.99220  3.26   \n",
       "1      0.080                  6.0                  13.0  0.99774  3.22   \n",
       "2      0.035                 38.0                 103.0  0.99148  2.91   \n",
       "3      0.055                 19.0                 110.0  0.99460  3.33   \n",
       "4      0.050                 35.0                 144.0  0.99990  3.22   \n",
       "\n",
       "   sulphates  alcohol  quality  \n",
       "0       0.60     10.8        7  \n",
       "1       0.76     11.4        6  \n",
       "2       0.23     12.2        6  \n",
       "3       0.44      9.9        5  \n",
       "4       0.42      8.8        5  "
      ]
     },
     "execution_count": 3,
     "metadata": {},
     "output_type": "execute_result"
    }
   ],
   "source": [
    "winetr.head()"
   ]
  },
  {
   "cell_type": "code",
   "execution_count": 4,
   "metadata": {},
   "outputs": [
    {
     "name": "stdout",
     "output_type": "stream",
     "text": [
      "Keys of wine data set:\n",
      " Index(['Unnamed: 0', 'fixed.acidity', 'volatile.acidity', 'citric.acid',\n",
      "       'residual.sugar', 'chlorides', 'free.sulfur.dioxide',\n",
      "       'total.sulfur.dioxide', 'density', 'pH', 'sulphates', 'alcohol',\n",
      "       'quality'],\n",
      "      dtype='object')\n"
     ]
    }
   ],
   "source": [
    "print(\"Keys of wine data set:\\n\", winetr.keys())"
   ]
  },
  {
   "cell_type": "code",
   "execution_count": 22,
   "metadata": {},
   "outputs": [
    {
     "name": "stdout",
     "output_type": "stream",
     "text": [
      "Shape of data: (4872,)\n",
      "Shape of data: (1625,)\n"
     ]
    }
   ],
   "source": [
    "print(\"Shape of data:\", winetr['Unnamed: 0'].shape)\n",
    "print(\"Shape of data:\", winete['Unnamed: 0'].shape)"
   ]
  },
  {
   "cell_type": "code",
   "execution_count": 6,
   "metadata": {},
   "outputs": [],
   "source": [
    "split_at = 12\n",
    "X_train = winetr.iloc[:, 1:split_at]\n",
    "Y_train = winetr.iloc[:, split_at:]\n",
    "X_test = winete.iloc[:, 1:split_at]\n",
    "Y_test = winete.iloc[:, split_at:]"
   ]
  },
  {
   "cell_type": "code",
   "execution_count": 7,
   "metadata": {
    "scrolled": true
   },
   "outputs": [
    {
     "data": {
      "text/html": [
       "<div>\n",
       "<style scoped>\n",
       "    .dataframe tbody tr th:only-of-type {\n",
       "        vertical-align: middle;\n",
       "    }\n",
       "\n",
       "    .dataframe tbody tr th {\n",
       "        vertical-align: top;\n",
       "    }\n",
       "\n",
       "    .dataframe thead th {\n",
       "        text-align: right;\n",
       "    }\n",
       "</style>\n",
       "<table border=\"1\" class=\"dataframe\">\n",
       "  <thead>\n",
       "    <tr style=\"text-align: right;\">\n",
       "      <th></th>\n",
       "      <th>fixed.acidity</th>\n",
       "      <th>volatile.acidity</th>\n",
       "      <th>citric.acid</th>\n",
       "      <th>residual.sugar</th>\n",
       "      <th>chlorides</th>\n",
       "      <th>free.sulfur.dioxide</th>\n",
       "      <th>total.sulfur.dioxide</th>\n",
       "      <th>density</th>\n",
       "      <th>pH</th>\n",
       "      <th>sulphates</th>\n",
       "      <th>alcohol</th>\n",
       "    </tr>\n",
       "  </thead>\n",
       "  <tbody>\n",
       "    <tr>\n",
       "      <th>0</th>\n",
       "      <td>6.7</td>\n",
       "      <td>0.17</td>\n",
       "      <td>0.37</td>\n",
       "      <td>2.00</td>\n",
       "      <td>0.039</td>\n",
       "      <td>34.0</td>\n",
       "      <td>125.0</td>\n",
       "      <td>0.99220</td>\n",
       "      <td>3.26</td>\n",
       "      <td>0.60</td>\n",
       "      <td>10.8</td>\n",
       "    </tr>\n",
       "    <tr>\n",
       "      <th>1</th>\n",
       "      <td>10.4</td>\n",
       "      <td>0.52</td>\n",
       "      <td>0.45</td>\n",
       "      <td>2.00</td>\n",
       "      <td>0.080</td>\n",
       "      <td>6.0</td>\n",
       "      <td>13.0</td>\n",
       "      <td>0.99774</td>\n",
       "      <td>3.22</td>\n",
       "      <td>0.76</td>\n",
       "      <td>11.4</td>\n",
       "    </tr>\n",
       "    <tr>\n",
       "      <th>2</th>\n",
       "      <td>8.0</td>\n",
       "      <td>0.34</td>\n",
       "      <td>0.25</td>\n",
       "      <td>6.40</td>\n",
       "      <td>0.035</td>\n",
       "      <td>38.0</td>\n",
       "      <td>103.0</td>\n",
       "      <td>0.99148</td>\n",
       "      <td>2.91</td>\n",
       "      <td>0.23</td>\n",
       "      <td>12.2</td>\n",
       "    </tr>\n",
       "    <tr>\n",
       "      <th>3</th>\n",
       "      <td>7.5</td>\n",
       "      <td>0.19</td>\n",
       "      <td>0.49</td>\n",
       "      <td>1.80</td>\n",
       "      <td>0.055</td>\n",
       "      <td>19.0</td>\n",
       "      <td>110.0</td>\n",
       "      <td>0.99460</td>\n",
       "      <td>3.33</td>\n",
       "      <td>0.44</td>\n",
       "      <td>9.9</td>\n",
       "    </tr>\n",
       "    <tr>\n",
       "      <th>4</th>\n",
       "      <td>7.0</td>\n",
       "      <td>0.23</td>\n",
       "      <td>0.42</td>\n",
       "      <td>18.05</td>\n",
       "      <td>0.050</td>\n",
       "      <td>35.0</td>\n",
       "      <td>144.0</td>\n",
       "      <td>0.99990</td>\n",
       "      <td>3.22</td>\n",
       "      <td>0.42</td>\n",
       "      <td>8.8</td>\n",
       "    </tr>\n",
       "  </tbody>\n",
       "</table>\n",
       "</div>"
      ],
      "text/plain": [
       "   fixed.acidity  volatile.acidity  citric.acid  residual.sugar  chlorides  \\\n",
       "0            6.7              0.17         0.37            2.00      0.039   \n",
       "1           10.4              0.52         0.45            2.00      0.080   \n",
       "2            8.0              0.34         0.25            6.40      0.035   \n",
       "3            7.5              0.19         0.49            1.80      0.055   \n",
       "4            7.0              0.23         0.42           18.05      0.050   \n",
       "\n",
       "   free.sulfur.dioxide  total.sulfur.dioxide  density    pH  sulphates  \\\n",
       "0                 34.0                 125.0  0.99220  3.26       0.60   \n",
       "1                  6.0                  13.0  0.99774  3.22       0.76   \n",
       "2                 38.0                 103.0  0.99148  2.91       0.23   \n",
       "3                 19.0                 110.0  0.99460  3.33       0.44   \n",
       "4                 35.0                 144.0  0.99990  3.22       0.42   \n",
       "\n",
       "   alcohol  \n",
       "0     10.8  \n",
       "1     11.4  \n",
       "2     12.2  \n",
       "3      9.9  \n",
       "4      8.8  "
      ]
     },
     "execution_count": 7,
     "metadata": {},
     "output_type": "execute_result"
    }
   ],
   "source": [
    "X_train.head()"
   ]
  },
  {
   "cell_type": "code",
   "execution_count": 8,
   "metadata": {},
   "outputs": [
    {
     "data": {
      "text/html": [
       "<div>\n",
       "<style scoped>\n",
       "    .dataframe tbody tr th:only-of-type {\n",
       "        vertical-align: middle;\n",
       "    }\n",
       "\n",
       "    .dataframe tbody tr th {\n",
       "        vertical-align: top;\n",
       "    }\n",
       "\n",
       "    .dataframe thead th {\n",
       "        text-align: right;\n",
       "    }\n",
       "</style>\n",
       "<table border=\"1\" class=\"dataframe\">\n",
       "  <thead>\n",
       "    <tr style=\"text-align: right;\">\n",
       "      <th></th>\n",
       "      <th>quality</th>\n",
       "    </tr>\n",
       "  </thead>\n",
       "  <tbody>\n",
       "    <tr>\n",
       "      <th>0</th>\n",
       "      <td>6</td>\n",
       "    </tr>\n",
       "    <tr>\n",
       "      <th>1</th>\n",
       "      <td>5</td>\n",
       "    </tr>\n",
       "    <tr>\n",
       "      <th>2</th>\n",
       "      <td>6</td>\n",
       "    </tr>\n",
       "    <tr>\n",
       "      <th>3</th>\n",
       "      <td>4</td>\n",
       "    </tr>\n",
       "    <tr>\n",
       "      <th>4</th>\n",
       "      <td>5</td>\n",
       "    </tr>\n",
       "  </tbody>\n",
       "</table>\n",
       "</div>"
      ],
      "text/plain": [
       "   quality\n",
       "0        6\n",
       "1        5\n",
       "2        6\n",
       "3        4\n",
       "4        5"
      ]
     },
     "execution_count": 8,
     "metadata": {},
     "output_type": "execute_result"
    }
   ],
   "source": [
    "Y_test.head()"
   ]
  },
  {
   "cell_type": "code",
   "execution_count": 9,
   "metadata": {},
   "outputs": [
    {
     "name": "stdout",
     "output_type": "stream",
     "text": [
      "Test set R^2:-0.0688\n"
     ]
    }
   ],
   "source": [
    "reg1=KNeighborsRegressor(n_neighbors=1)\n",
    "reg1.fit(X_train,Y_train)\n",
    "print(\"Test set R^2:{:.4f}\".format(reg1.score(X_test,Y_test)))"
   ]
  },
  {
   "cell_type": "code",
   "execution_count": 10,
   "metadata": {},
   "outputs": [
    {
     "name": "stdout",
     "output_type": "stream",
     "text": [
      "Training R^2 value for k =  1 is: 1.0\n",
      "Testing R^2 value for k =  1 is: -0.06883368809875723\n",
      "Training R^2 value for k =  2 is: 0.7280689690887908\n",
      "Testing R^2 value for k =  2 is: 0.0680147752781256\n",
      "Training R^2 value for k =  3 is: 0.5754420669840697\n",
      "Testing R^2 value for k =  3 is: 0.12044713672520735\n",
      "Training R^2 value for k =  4 is: 0.49731800565514683\n",
      "Testing R^2 value for k =  4 is: 0.15787073470806157\n",
      "Training R^2 value for k =  5 is: 0.4410102893169032\n",
      "Testing R^2 value for k =  5 is: 0.17183085094334705\n",
      "Training R^2 value for k =  6 is: 0.397806110434331\n",
      "Testing R^2 value for k =  6 is: 0.17495494581290227\n",
      "Training R^2 value for k =  7 is: 0.3718974474990112\n",
      "Testing R^2 value for k =  7 is: 0.18446276985932253\n",
      "Training R^2 value for k =  8 is: 0.34996686354637785\n",
      "Testing R^2 value for k =  8 is: 0.18752369287332904\n",
      "Training R^2 value for k =  9 is: 0.32603720735159225\n",
      "Testing R^2 value for k =  9 is: 0.1970954814035889\n",
      "Training R^2 value for k =  10 is: 0.30817215046149093\n",
      "Testing R^2 value for k =  10 is: 0.19952300264162315\n",
      "Training R^2 value for k =  11 is: 0.2956980407434423\n",
      "Testing R^2 value for k =  11 is: 0.1934559501005092\n",
      "Training R^2 value for k =  12 is: 0.285872674295349\n",
      "Testing R^2 value for k =  12 is: 0.19481370271098442\n",
      "Training R^2 value for k =  13 is: 0.27385903405277645\n",
      "Testing R^2 value for k =  13 is: 0.1955557188715028\n",
      "Training R^2 value for k =  14 is: 0.2647518130411737\n",
      "Testing R^2 value for k =  14 is: 0.1929897163956783\n",
      "Training R^2 value for k =  15 is: 0.2590705121397757\n",
      "Testing R^2 value for k =  15 is: 0.19819384227893966\n",
      "Training R^2 value for k =  16 is: 0.2527286044593078\n",
      "Testing R^2 value for k =  16 is: 0.2025867320242103\n",
      "Training R^2 value for k =  17 is: 0.24682684801856303\n",
      "Testing R^2 value for k =  17 is: 0.20476254674980732\n",
      "Training R^2 value for k =  18 is: 0.23943303543801975\n",
      "Testing R^2 value for k =  18 is: 0.20307665448718193\n",
      "Training R^2 value for k =  19 is: 0.23428639383856675\n",
      "Testing R^2 value for k =  19 is: 0.2011159950945245\n",
      "Training R^2 value for k =  20 is: 0.22718355279085656\n",
      "Testing R^2 value for k =  20 is: 0.19503806952434355\n"
     ]
    }
   ],
   "source": [
    "k_range=range(1,21)\n",
    "r2trains = [] #to store R^2 values for different k\n",
    "r2tests = [] #to store R^2 values for different k\n",
    "for K in k_range:\n",
    "    model = KNeighborsRegressor(n_neighbors = K)\n",
    "    model.fit(X_train, Y_train)  #fit the model\n",
    "    pred=model.predict(X_test) #make prediction on test set\n",
    "    r2train = model.score(X_train,Y_train)\n",
    "    r2test = model.score(X_test,Y_test)\n",
    "    r2trains.append(r2train)\n",
    "    r2tests.append(r2test)\n",
    "    print('Training R^2 value for k = ' , K , 'is:', r2train)\n",
    "    print('Testing R^2 value for k = ' , K , 'is:', r2test)"
   ]
  },
  {
   "cell_type": "code",
   "execution_count": 11,
   "metadata": {},
   "outputs": [
    {
     "data": {
      "image/png": "[encoded data removed]",
      "text/plain": [
       "<Figure size 432x288 with 1 Axes>"
      ]
     },
     "metadata": {
      "needs_background": "light"
     },
     "output_type": "display_data"
    }
   ],
   "source": [
    "#plotting the R^2 values against k values\n",
    "\n",
    "plt.plot(k_range, r2tests, label=\"testing R^2\")\n",
    "plt.plot(k_range, r2trains, label=\"training R^2\")\n",
    "plt.title(\"KNN R^2 for different k\")\n",
    "plt.xlabel(\"value of k\")\n",
    "plt.ylabel(\"R^2\")\n",
    "plt.legend();"
   ]
  },
  {
   "cell_type": "code",
   "execution_count": 24,
   "metadata": {},
   "outputs": [
    {
     "name": "stdout",
     "output_type": "stream",
     "text": [
      "lr.coef_:[[ 6.56051841e-02 -1.31845988e+00 -1.27628521e-01  4.13145088e-02\n",
      "  -1.62638469e-01  5.86443061e-03 -2.48848975e-03 -4.85670283e+01\n",
      "   4.00902913e-01  6.76769740e-01  2.72929267e-01]]\n",
      "lr.intercept_:[49.52309995]\n"
     ]
    }
   ],
   "source": [
    "from sklearn.linear_model import LinearRegression\n",
    "lr=LinearRegression().fit(X_train, Y_train)\n",
    "print(\"lr.coef_:{}\".format(lr.coef_))\n",
    "print(\"lr.intercept_:{}\".format(lr.intercept_))"
   ]
  },
  {
   "cell_type": "code",
   "execution_count": 14,
   "metadata": {},
   "outputs": [
    {
     "name": "stdout",
     "output_type": "stream",
     "text": [
      "Training set score: 0.28\n",
      "Test set score: 0.34\n"
     ]
    }
   ],
   "source": [
    "print(\"Training set score: {:.2f}\".format(lr.score(X_train, Y_train)))\n",
    "print(\"Test set score: {:.2f}\".format(lr.score(X_test, Y_test)))"
   ]
  },
  {
   "cell_type": "code",
   "execution_count": 25,
   "metadata": {},
   "outputs": [
    {
     "name": "stdout",
     "output_type": "stream",
     "text": [
      "Training R^2 value for alpha =  0.1 is: 0.27435291177349674\n",
      "Testing R^2 value for alpha =  0.1 is: 0.3334373250719501\n",
      "Training R^2 value for alpha =  0.6 is: 0.27426308310784975\n",
      "Testing R^2 value for alpha =  0.6 is: 0.333092543384057\n",
      "Training R^2 value for alpha =  1.1 is: 0.27424361968651423\n",
      "Testing R^2 value for alpha =  1.1 is: 0.3328677066040937\n",
      "Training R^2 value for alpha =  1.6 is: 0.2742242789063636\n",
      "Testing R^2 value for alpha =  1.6 is: 0.33266281798626085\n",
      "Training R^2 value for alpha =  2.1 is: 0.2742022197500966\n",
      "Testing R^2 value for alpha =  2.1 is: 0.3324695633840852\n",
      "Training R^2 value for alpha =  2.6 is: 0.2741770575297896\n",
      "Testing R^2 value for alpha =  2.6 is: 0.3322843035228771\n",
      "Training R^2 value for alpha =  3.1 is: 0.27414879729534936\n",
      "Testing R^2 value for alpha =  3.1 is: 0.3321048194323175\n",
      "Training R^2 value for alpha =  3.6 is: 0.2741175290018494\n",
      "Testing R^2 value for alpha =  3.6 is: 0.33192959939367006\n",
      "Training R^2 value for alpha =  4.1 is: 0.2740833613474316\n",
      "Testing R^2 value for alpha =  4.1 is: 0.3317575606992007\n",
      "Training R^2 value for alpha =  4.6 is: 0.2740464050156237\n",
      "Testing R^2 value for alpha =  4.6 is: 0.3315879058760103\n",
      "Training R^2 value for alpha =  5.1 is: 0.2740067683271066\n",
      "Testing R^2 value for alpha =  5.1 is: 0.33142003691985444\n",
      "Training R^2 value for alpha =  5.6 is: 0.27396455626609073\n",
      "Testing R^2 value for alpha =  5.6 is: 0.331253499887357\n",
      "Training R^2 value for alpha =  6.1 is: 0.273919870406913\n",
      "Testing R^2 value for alpha =  6.1 is: 0.3310879472917482\n",
      "Training R^2 value for alpha =  6.6 is: 0.27387280903736366\n",
      "Testing R^2 value for alpha =  6.6 is: 0.33092311170473254\n",
      "Training R^2 value for alpha =  7.1 is: 0.2738234672895309\n",
      "Testing R^2 value for alpha =  7.1 is: 0.33075878675341375\n",
      "Training R^2 value for alpha =  7.6 is: 0.2737719372401325\n",
      "Testing R^2 value for alpha =  7.6 is: 0.3305948131662706\n",
      "Training R^2 value for alpha =  8.1 is: 0.27371830798332997\n",
      "Testing R^2 value for alpha =  8.1 is: 0.3304310683575955\n",
      "Training R^2 value for alpha =  8.6 is: 0.2736626656868032\n",
      "Testing R^2 value for alpha =  8.6 is: 0.3302674585444568\n",
      "Training R^2 value for alpha =  9.1 is: 0.2736050936404626\n",
      "Testing R^2 value for alpha =  9.1 is: 0.330103912708393\n",
      "Training R^2 value for alpha =  9.6 is: 0.2735456723040943\n",
      "Testing R^2 value for alpha =  9.6 is: 0.32994037792127306\n"
     ]
    }
   ],
   "source": [
    "from sklearn.linear_model import Ridge\n",
    "alpha_range=np.arange(0.1, 10, 0.5)\n",
    "r2trains = [] #to store R^2 values for different alpha\n",
    "r2tests = [] #to store R^2 values for different alpha\n",
    "for a in alpha_range:\n",
    "    model = Ridge(alpha = a)\n",
    "    model.fit(X_train, Y_train)  #fit the model\n",
    "    pred=model.predict(X_test) #make prediction on test set\n",
    "    r2train = model.score(X_train,Y_train)\n",
    "    r2test = model.score(X_test,Y_test)\n",
    "    r2trains.append(r2train)\n",
    "    r2tests.append(r2test)\n",
    "    print('Training R^2 value for alpha = ' , a , 'is:', r2train)\n",
    "    print('Testing R^2 value for alpha = ' , a , 'is:', r2test)"
   ]
  },
  {
   "cell_type": "code",
   "execution_count": 27,
   "metadata": {},
   "outputs": [
    {
     "data": {
      "image/png": "[encoded data removed]",
      "text/plain": [
       "<Figure size 432x288 with 1 Axes>"
      ]
     },
     "metadata": {
      "needs_background": "light"
     },
     "output_type": "display_data"
    }
   ],
   "source": [
    "#plotting the R^2 values against alpha values\n",
    "plt.plot(alpha_range, r2tests, label=\"testing R^2\")\n",
    "plt.plot(alpha_range, r2trains, label=\"training R^2\")\n",
    "plt.title(\"Ridge Regression R^2 for different alpha\")\n",
    "plt.xlabel(\"value of alpha\")\n",
    "plt.ylabel(\"R^2\")\n",
    "plt.legend();"
   ]
  },
  {
   "cell_type": "code",
   "execution_count": 17,
   "metadata": {
    "scrolled": false
   },
   "outputs": [
    {
     "name": "stdout",
     "output_type": "stream",
     "text": [
      "Training R^2 value for alpha =  0.1 is: 0.20358686555554106\n",
      "Testing R^2 value for alpha =  0.1 is: 0.23261832341276112\n",
      "Number of features used for alpha = 0.1 is: 4\n",
      "Training R^2 value for alpha =  0.2 is: 0.16708127610670298\n",
      "Testing R^2 value for alpha =  0.2 is: 0.18859121941987567\n",
      "Number of features used for alpha = 0.2 is: 3\n",
      "Training R^2 value for alpha =  0.30000000000000004 is: 0.11692532104735243\n",
      "Testing R^2 value for alpha =  0.30000000000000004 is: 0.13109567853817983\n",
      "Number of features used for alpha = 0.30000000000000004 is: 3\n",
      "Training R^2 value for alpha =  0.4 is: 0.04672257239973232\n",
      "Testing R^2 value for alpha =  0.4 is: 0.05396487199575517\n",
      "Number of features used for alpha = 0.4 is: 3\n",
      "Training R^2 value for alpha =  0.5 is: 0.01074472488487277\n",
      "Testing R^2 value for alpha =  0.5 is: 0.014561857486178886\n",
      "Number of features used for alpha = 0.5 is: 2\n",
      "Training R^2 value for alpha =  0.6 is: 0.009264254701242258\n",
      "Testing R^2 value for alpha =  0.6 is: 0.011976735772006086\n",
      "Number of features used for alpha = 0.6 is: 2\n",
      "Training R^2 value for alpha =  0.7000000000000001 is: 0.007514663848541492\n",
      "Testing R^2 value for alpha =  0.7000000000000001 is: 0.00914016936052453\n",
      "Number of features used for alpha = 0.7000000000000001 is: 2\n",
      "Training R^2 value for alpha =  0.8 is: 0.0054959922105951575\n",
      "Testing R^2 value for alpha =  0.8 is: 0.00605221379865184\n",
      "Number of features used for alpha = 0.8 is: 2\n",
      "Training R^2 value for alpha =  0.9 is: 0.003208197728563955\n",
      "Testing R^2 value for alpha =  0.9 is: 0.0027127957292050198\n",
      "Number of features used for alpha = 0.9 is: 2\n"
     ]
    }
   ],
   "source": [
    "from sklearn.linear_model import Lasso\n",
    "alpha_range=np.arange(0.1, 1, 0.1)\n",
    "r2trains = [] #to store R^2 values for different alpha\n",
    "r2tests = [] #to store R^2 values for different alpha\n",
    "no_features = [] #to store number of features used for different alpha\n",
    "for a in alpha_range:\n",
    "    model = Lasso(alpha = a, max_iter=100000)\n",
    "    model.fit(X_train, Y_train)  #fit the model\n",
    "    pred=model.predict(X_test) #make prediction on test set\n",
    "    r2train = model.score(X_train,Y_train)\n",
    "    r2test = model.score(X_test,Y_test)\n",
    "    no_feature=np.sum(model.coef_!=0)\n",
    "    r2trains.append(r2train)\n",
    "    r2tests.append(r2test)\n",
    "    no_features.append(no_feature)\n",
    "    print('Training R^2 value for alpha = ' , a , 'is:', r2train)\n",
    "    print('Testing R^2 value for alpha = ' , a , 'is:', r2test)\n",
    "    print(\"Number of features used for alpha =\", a , 'is:', no_feature)"
   ]
  },
  {
   "cell_type": "code",
   "execution_count": 18,
   "metadata": {},
   "outputs": [
    {
     "data": {
      "image/png": "[encoded data removed]",
      "text/plain": [
       "<Figure size 432x288 with 1 Axes>"
      ]
     },
     "metadata": {
      "needs_background": "light"
     },
     "output_type": "display_data"
    }
   ],
   "source": [
    "#plotting the R^2 values against alpha values\n",
    "plt.plot(alpha_range, r2tests, label=\"testing R^2\")\n",
    "plt.plot(alpha_range, r2trains, label=\"training R^2\")\n",
    "plt.title(\"Lasso R^2 for different alpha\")\n",
    "plt.xlabel(\"value of alpha\")\n",
    "plt.ylabel(\"R^2\")\n",
    "plt.legend();"
   ]
  }
 ],
 "metadata": {
  "kernelspec": {
   "display_name": "Python 3",
   "language": "python",
   "name": "python3"
  },
  "language_info": {
   "codemirror_mode": {
    "name": "ipython",
    "version": 3
   },
   "file_extension": ".py",
   "mimetype": "text/x-python",
   "name": "python",
   "nbconvert_exporter": "python",
   "pygments_lexer": "ipython3",
   "version": "3.8.5"
  }
 },
 "nbformat": 4,
 "nbformat_minor": 4
}
